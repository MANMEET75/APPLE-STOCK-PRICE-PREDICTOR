{
 "cells": [
  {
   "cell_type": "markdown",
   "metadata": {
    "id": "nxJfRe4bfYVA"
   },
   "source": [
    "## Part 1 - Data Preprocessing"
   ]
  },
  {
   "cell_type": "markdown",
   "metadata": {
    "id": "ir9zwETrfbrp"
   },
   "source": [
    "### Importing the libraries"
   ]
  },
  {
   "cell_type": "code",
   "execution_count": 1,
   "metadata": {
    "id": "ZT1f24vHffuf"
   },
   "outputs": [],
   "source": [
    "import numpy as np\n",
    "import matplotlib.pyplot as plt\n",
    "import pandas as pd"
   ]
  },
  {
   "cell_type": "markdown",
   "metadata": {
    "id": "nQ47JAxrgmaL"
   },
   "source": [
    "### Importing the training set"
   ]
  },
  {
   "cell_type": "code",
   "execution_count": 2,
   "metadata": {
    "id": "1xiv3pJOgqY3"
   },
   "outputs": [],
   "source": [
    "dataset_train = pd.read_csv('APPLE_TRAINING_DATA.csv')\n",
    "training_set = dataset_train.iloc[:, 1:2].values"
   ]
  },
  {
   "cell_type": "code",
   "execution_count": 3,
   "metadata": {},
   "outputs": [
    {
     "data": {
      "text/plain": [
       "(3144, 1)"
      ]
     },
     "execution_count": 3,
     "metadata": {},
     "output_type": "execute_result"
    }
   ],
   "source": [
    "training_set.shape"
   ]
  },
  {
   "cell_type": "markdown",
   "metadata": {
    "id": "HT8_2UJegtG5"
   },
   "source": [
    "### Feature Scaling"
   ]
  },
  {
   "cell_type": "code",
   "execution_count": 4,
   "metadata": {
    "id": "OTrF2kR7gx9x"
   },
   "outputs": [],
   "source": [
    "from sklearn.preprocessing import MinMaxScaler\n",
    "sc = MinMaxScaler(feature_range = (0, 1))\n",
    "training_set_scaled = sc.fit_transform(training_set)"
   ]
  },
  {
   "cell_type": "markdown",
   "metadata": {
    "id": "JyYgYocqhNUg"
   },
   "source": [
    "### Creating a data structure with 120 timesteps and 1 output"
   ]
  },
  {
   "cell_type": "code",
   "execution_count": 5,
   "metadata": {
    "id": "iofU21B0i6ST"
   },
   "outputs": [],
   "source": [
    "X_train = []\n",
    "y_train = []\n",
    "for i in range(120, 3144):\n",
    "    X_train.append(training_set_scaled[i-120:i, 0])\n",
    "    y_train.append(training_set_scaled[i, 0])\n",
    "X_train, y_train = np.array(X_train), np.array(y_train)"
   ]
  },
  {
   "cell_type": "markdown",
   "metadata": {
    "id": "D8yaN7Zvi95l"
   },
   "source": [
    "### Reshaping"
   ]
  },
  {
   "cell_type": "code",
   "execution_count": 6,
   "metadata": {
    "id": "FOXqJHmNjBkz"
   },
   "outputs": [],
   "source": [
    "X_train = np.reshape(X_train, (X_train.shape[0], X_train.shape[1], 1))"
   ]
  },
  {
   "cell_type": "markdown",
   "metadata": {
    "id": "ZRRSOJeVjEWV"
   },
   "source": [
    "## Part 2 - Building and Training the RNN"
   ]
  },
  {
   "cell_type": "markdown",
   "metadata": {
    "id": "k4XV88JMjHXG"
   },
   "source": [
    "### Importing the Keras libraries and packages"
   ]
  },
  {
   "cell_type": "code",
   "execution_count": 7,
   "metadata": {
    "colab": {
     "base_uri": "https://localhost:8080/",
     "height": 34
    },
    "id": "9JRnqsxEjKsD",
    "outputId": "b3e23e78-18aa-4396-c923-c877b8de60e4"
   },
   "outputs": [],
   "source": [
    "from keras.models import Sequential\n",
    "from keras.layers import Dense\n",
    "from keras.layers import LSTM\n",
    "from keras.layers import Dropout"
   ]
  },
  {
   "cell_type": "markdown",
   "metadata": {
    "id": "FEIE-1s9jNzC"
   },
   "source": [
    "### Initialising the RNN"
   ]
  },
  {
   "cell_type": "code",
   "execution_count": 8,
   "metadata": {
    "id": "1338dJ0UjRKH"
   },
   "outputs": [],
   "source": [
    "regressor = Sequential()"
   ]
  },
  {
   "cell_type": "markdown",
   "metadata": {
    "id": "62eg1OPGjT8z"
   },
   "source": [
    "### Adding the first LSTM layer and some Dropout regularisation"
   ]
  },
  {
   "cell_type": "code",
   "execution_count": 9,
   "metadata": {
    "id": "2hIinyXUjbVU"
   },
   "outputs": [],
   "source": [
    "regressor.add(LSTM(units = 100, return_sequences = True, input_shape = (X_train.shape[1], 1)))\n",
    "regressor.add(Dropout(0.2))"
   ]
  },
  {
   "cell_type": "markdown",
   "metadata": {
    "id": "3XBIYLyOjlMx"
   },
   "source": [
    "### Adding a second LSTM layer and some Dropout regularisation"
   ]
  },
  {
   "cell_type": "code",
   "execution_count": 10,
   "metadata": {
    "id": "UG7nrVaSjuZ2"
   },
   "outputs": [],
   "source": [
    "regressor.add(LSTM(units = 100, return_sequences = True))\n",
    "regressor.add(Dropout(0.2))"
   ]
  },
  {
   "cell_type": "markdown",
   "metadata": {
    "id": "Ey3fHVnGj1cu"
   },
   "source": [
    "### Adding a third LSTM layer and some Dropout regularisation"
   ]
  },
  {
   "cell_type": "code",
   "execution_count": 11,
   "metadata": {
    "id": "PuNi6PgFj7jO"
   },
   "outputs": [],
   "source": [
    "regressor.add(LSTM(units = 100, return_sequences = True))\n",
    "regressor.add(Dropout(0.2))"
   ]
  },
  {
   "cell_type": "markdown",
   "metadata": {
    "id": "SYTrtfTmj933"
   },
   "source": [
    "### Adding a fourth LSTM layer and some Dropout regularisation"
   ]
  },
  {
   "cell_type": "code",
   "execution_count": 12,
   "metadata": {
    "id": "Jp4Ty8fRkBYV"
   },
   "outputs": [],
   "source": [
    "regressor.add(LSTM(units = 100, return_sequences = True))\n",
    "regressor.add(Dropout(0.2))"
   ]
  },
  {
   "cell_type": "markdown",
   "metadata": {},
   "source": [
    "### Adding a fifth LSTM layer and some Dropout regularisation"
   ]
  },
  {
   "cell_type": "code",
   "execution_count": 13,
   "metadata": {},
   "outputs": [],
   "source": [
    "regressor.add(LSTM(units = 100))\n",
    "regressor.add(Dropout(0.2))"
   ]
  },
  {
   "cell_type": "markdown",
   "metadata": {
    "id": "9ABI6rOIkHhk"
   },
   "source": [
    "### Adding the output layer"
   ]
  },
  {
   "cell_type": "code",
   "execution_count": 14,
   "metadata": {
    "id": "aM6R1z4WkME8"
   },
   "outputs": [],
   "source": [
    "regressor.add(Dense(units = 1))"
   ]
  },
  {
   "cell_type": "markdown",
   "metadata": {
    "id": "zLx4K7uUkPSh"
   },
   "source": [
    "### Compiling the RNN"
   ]
  },
  {
   "cell_type": "code",
   "execution_count": 15,
   "metadata": {
    "id": "XTrhVN-tkbko"
   },
   "outputs": [],
   "source": [
    "regressor.compile(optimizer = 'adam', loss = 'mean_squared_error')"
   ]
  },
  {
   "cell_type": "markdown",
   "metadata": {
    "id": "-mPhwKGkkebi"
   },
   "source": [
    "### Fitting the RNN to the Training set"
   ]
  },
  {
   "cell_type": "code",
   "execution_count": 16,
   "metadata": {
    "colab": {
     "base_uri": "https://localhost:8080/",
     "height": 1000
    },
    "id": "I06Nkrz5kkb-",
    "outputId": "dc9d947a-4d5c-4dbc-ed45-31bf44b98dfb"
   },
   "outputs": [
    {
     "name": "stdout",
     "output_type": "stream",
     "text": [
      "Epoch 1/100\n",
      "95/95 [==============================] - 49s 432ms/step - loss: 0.0074\n",
      "Epoch 2/100\n",
      "95/95 [==============================] - 42s 446ms/step - loss: 0.0017\n",
      "Epoch 3/100\n",
      "95/95 [==============================] - 44s 463ms/step - loss: 0.0015\n",
      "Epoch 4/100\n",
      "95/95 [==============================] - 45s 479ms/step - loss: 0.0014\n",
      "Epoch 5/100\n",
      "95/95 [==============================] - 48s 510ms/step - loss: 0.0018\n",
      "Epoch 6/100\n",
      "95/95 [==============================] - 45s 473ms/step - loss: 0.0013\n",
      "Epoch 7/100\n",
      "95/95 [==============================] - 45s 478ms/step - loss: 0.0015\n",
      "Epoch 8/100\n",
      "95/95 [==============================] - 46s 483ms/step - loss: 0.0011\n",
      "Epoch 9/100\n",
      "95/95 [==============================] - 46s 482ms/step - loss: 0.0011\n",
      "Epoch 10/100\n",
      "95/95 [==============================] - 48s 509ms/step - loss: 9.7087e-04\n",
      "Epoch 11/100\n",
      "95/95 [==============================] - 44s 467ms/step - loss: 0.0012\n",
      "Epoch 12/100\n",
      "95/95 [==============================] - 45s 473ms/step - loss: 9.6485e-04\n",
      "Epoch 13/100\n",
      "95/95 [==============================] - 45s 470ms/step - loss: 0.0011\n",
      "Epoch 14/100\n",
      "95/95 [==============================] - 45s 471ms/step - loss: 8.8478e-04\n",
      "Epoch 15/100\n",
      "95/95 [==============================] - 45s 472ms/step - loss: 9.1893e-04\n",
      "Epoch 16/100\n",
      "95/95 [==============================] - 45s 475ms/step - loss: 0.0011\n",
      "Epoch 17/100\n",
      "95/95 [==============================] - 46s 483ms/step - loss: 9.8216e-04\n",
      "Epoch 18/100\n",
      "95/95 [==============================] - 45s 473ms/step - loss: 9.8528e-04\n",
      "Epoch 19/100\n",
      "95/95 [==============================] - 45s 472ms/step - loss: 8.6377e-04\n",
      "Epoch 20/100\n",
      "95/95 [==============================] - 45s 472ms/step - loss: 9.5234e-04\n",
      "Epoch 21/100\n",
      "95/95 [==============================] - 45s 471ms/step - loss: 6.9278e-04\n",
      "Epoch 22/100\n",
      "95/95 [==============================] - 45s 474ms/step - loss: 7.6228e-04\n",
      "Epoch 23/100\n",
      "95/95 [==============================] - 45s 473ms/step - loss: 6.6676e-04\n",
      "Epoch 24/100\n",
      "95/95 [==============================] - 45s 470ms/step - loss: 9.3784e-04\n",
      "Epoch 25/100\n",
      "95/95 [==============================] - 44s 468ms/step - loss: 6.5834e-04\n",
      "Epoch 26/100\n",
      "95/95 [==============================] - 45s 473ms/step - loss: 7.3558e-04\n",
      "Epoch 27/100\n",
      "95/95 [==============================] - 45s 471ms/step - loss: 7.1264e-04\n",
      "Epoch 28/100\n",
      "95/95 [==============================] - 44s 468ms/step - loss: 6.6942e-04\n",
      "Epoch 29/100\n",
      "95/95 [==============================] - 45s 472ms/step - loss: 7.7915e-04\n",
      "Epoch 30/100\n",
      "95/95 [==============================] - 46s 489ms/step - loss: 9.1225e-04\n",
      "Epoch 31/100\n",
      "95/95 [==============================] - 45s 478ms/step - loss: 0.0010\n",
      "Epoch 32/100\n",
      "95/95 [==============================] - 44s 464ms/step - loss: 7.5587e-04\n",
      "Epoch 33/100\n",
      "95/95 [==============================] - 44s 467ms/step - loss: 6.0720e-04\n",
      "Epoch 34/100\n",
      "95/95 [==============================] - 44s 467ms/step - loss: 7.2303e-04\n",
      "Epoch 35/100\n",
      "95/95 [==============================] - 45s 475ms/step - loss: 5.9219e-04\n",
      "Epoch 36/100\n",
      "95/95 [==============================] - 44s 465ms/step - loss: 7.8494e-04\n",
      "Epoch 37/100\n",
      "95/95 [==============================] - 44s 465ms/step - loss: 6.2216e-04\n",
      "Epoch 38/100\n",
      "95/95 [==============================] - 44s 464ms/step - loss: 5.9070e-04\n",
      "Epoch 39/100\n",
      "95/95 [==============================] - 44s 461ms/step - loss: 6.4418e-04\n",
      "Epoch 40/100\n",
      "95/95 [==============================] - 44s 462ms/step - loss: 6.4176e-04\n",
      "Epoch 41/100\n",
      "95/95 [==============================] - 45s 475ms/step - loss: 6.7613e-04\n",
      "Epoch 42/100\n",
      "95/95 [==============================] - 46s 480ms/step - loss: 7.4623e-04\n",
      "Epoch 43/100\n",
      "95/95 [==============================] - 45s 471ms/step - loss: 6.5778e-04\n",
      "Epoch 44/100\n",
      "95/95 [==============================] - 44s 465ms/step - loss: 6.2598e-04\n",
      "Epoch 45/100\n",
      "95/95 [==============================] - 44s 464ms/step - loss: 6.6773e-04\n",
      "Epoch 46/100\n",
      "95/95 [==============================] - 44s 467ms/step - loss: 6.6545e-04\n",
      "Epoch 47/100\n",
      "95/95 [==============================] - 44s 465ms/step - loss: 5.7598e-04\n",
      "Epoch 48/100\n",
      "95/95 [==============================] - 44s 467ms/step - loss: 6.0212e-04\n",
      "Epoch 49/100\n",
      "95/95 [==============================] - 44s 466ms/step - loss: 5.2596e-04\n",
      "Epoch 50/100\n",
      "95/95 [==============================] - 44s 466ms/step - loss: 6.0754e-04\n",
      "Epoch 51/100\n",
      "95/95 [==============================] - 44s 468ms/step - loss: 6.0722e-04\n",
      "Epoch 52/100\n",
      "95/95 [==============================] - 45s 479ms/step - loss: 6.0060e-04\n",
      "Epoch 53/100\n",
      "95/95 [==============================] - 47s 493ms/step - loss: 5.6196e-04\n",
      "Epoch 54/100\n",
      "95/95 [==============================] - 48s 507ms/step - loss: 5.9817e-04\n",
      "Epoch 55/100\n",
      "95/95 [==============================] - 45s 478ms/step - loss: 6.6789e-04\n",
      "Epoch 56/100\n",
      "95/95 [==============================] - 45s 470ms/step - loss: 5.7785e-04\n",
      "Epoch 57/100\n",
      "95/95 [==============================] - 46s 482ms/step - loss: 5.6197e-04\n",
      "Epoch 58/100\n",
      "95/95 [==============================] - 44s 468ms/step - loss: 5.1347e-04\n",
      "Epoch 59/100\n",
      "95/95 [==============================] - 45s 472ms/step - loss: 5.3305e-04\n",
      "Epoch 60/100\n",
      "95/95 [==============================] - 45s 470ms/step - loss: 5.3518e-04\n",
      "Epoch 61/100\n",
      "95/95 [==============================] - 44s 468ms/step - loss: 5.8128e-04\n",
      "Epoch 62/100\n",
      "95/95 [==============================] - 46s 489ms/step - loss: 6.4666e-04\n",
      "Epoch 63/100\n",
      "95/95 [==============================] - 46s 479ms/step - loss: 5.7499e-04\n",
      "Epoch 64/100\n",
      "95/95 [==============================] - 45s 478ms/step - loss: 5.8569e-04\n",
      "Epoch 65/100\n",
      "95/95 [==============================] - 44s 467ms/step - loss: 4.6086e-04\n",
      "Epoch 66/100\n",
      "95/95 [==============================] - 44s 465ms/step - loss: 4.3302e-04\n",
      "Epoch 67/100\n",
      "95/95 [==============================] - 46s 485ms/step - loss: 4.8107e-04\n",
      "Epoch 68/100\n",
      "95/95 [==============================] - 46s 487ms/step - loss: 5.4731e-04\n",
      "Epoch 69/100\n",
      "95/95 [==============================] - 46s 486ms/step - loss: 5.0806e-04\n",
      "Epoch 70/100\n",
      "95/95 [==============================] - 46s 485ms/step - loss: 4.3325e-04\n",
      "Epoch 71/100\n",
      "95/95 [==============================] - 47s 491ms/step - loss: 4.6928e-04\n",
      "Epoch 72/100\n",
      "95/95 [==============================] - 48s 508ms/step - loss: 5.4187e-04\n",
      "Epoch 73/100\n",
      "95/95 [==============================] - 47s 496ms/step - loss: 4.7433e-04\n",
      "Epoch 74/100\n",
      "95/95 [==============================] - 46s 484ms/step - loss: 4.5462e-04\n",
      "Epoch 75/100\n",
      "95/95 [==============================] - 45s 470ms/step - loss: 6.1752e-04\n",
      "Epoch 76/100\n",
      "95/95 [==============================] - 45s 470ms/step - loss: 4.5483e-04\n",
      "Epoch 77/100\n",
      "95/95 [==============================] - 44s 467ms/step - loss: 5.9427e-04\n",
      "Epoch 78/100\n",
      "95/95 [==============================] - 46s 484ms/step - loss: 4.8300e-04\n",
      "Epoch 79/100\n",
      "95/95 [==============================] - 46s 488ms/step - loss: 4.4047e-04\n",
      "Epoch 80/100\n",
      "95/95 [==============================] - 46s 485ms/step - loss: 5.0519e-04\n",
      "Epoch 81/100\n",
      "95/95 [==============================] - 50s 527ms/step - loss: 4.9579e-04\n",
      "Epoch 82/100\n",
      "95/95 [==============================] - 44s 467ms/step - loss: 4.5795e-04\n",
      "Epoch 83/100\n",
      "95/95 [==============================] - 45s 479ms/step - loss: 5.2258e-04\n",
      "Epoch 84/100\n",
      "95/95 [==============================] - 47s 495ms/step - loss: 5.2234e-04\n",
      "Epoch 85/100\n",
      "95/95 [==============================] - 46s 481ms/step - loss: 5.8243e-04\n",
      "Epoch 86/100\n",
      "95/95 [==============================] - 46s 486ms/step - loss: 4.6030e-04\n",
      "Epoch 87/100\n",
      "95/95 [==============================] - 44s 465ms/step - loss: 4.9247e-04\n",
      "Epoch 88/100\n",
      "95/95 [==============================] - 45s 474ms/step - loss: 4.3773e-04\n",
      "Epoch 89/100\n",
      "95/95 [==============================] - 45s 470ms/step - loss: 3.7623e-04\n",
      "Epoch 90/100\n",
      "95/95 [==============================] - 44s 463ms/step - loss: 4.3810e-04\n",
      "Epoch 91/100\n",
      "95/95 [==============================] - 49s 511ms/step - loss: 5.0411e-04\n",
      "Epoch 92/100\n",
      "95/95 [==============================] - 46s 484ms/step - loss: 4.6361e-04\n",
      "Epoch 93/100\n",
      "95/95 [==============================] - 46s 480ms/step - loss: 5.6456e-04\n",
      "Epoch 94/100\n"
     ]
    },
    {
     "name": "stdout",
     "output_type": "stream",
     "text": [
      "95/95 [==============================] - 45s 472ms/step - loss: 4.6745e-04\n",
      "Epoch 95/100\n",
      "95/95 [==============================] - 45s 476ms/step - loss: 5.0142e-04\n",
      "Epoch 96/100\n",
      "95/95 [==============================] - 46s 486ms/step - loss: 4.1137e-04\n",
      "Epoch 97/100\n",
      "95/95 [==============================] - 45s 472ms/step - loss: 4.7592e-04\n",
      "Epoch 98/100\n",
      "95/95 [==============================] - 44s 462ms/step - loss: 4.3344e-04\n",
      "Epoch 99/100\n",
      "95/95 [==============================] - 44s 460ms/step - loss: 4.5680e-04\n",
      "Epoch 100/100\n",
      "95/95 [==============================] - 44s 466ms/step - loss: 5.4553e-04\n"
     ]
    },
    {
     "data": {
      "text/plain": [
       "<keras.callbacks.History at 0x1ea0f49cd90>"
      ]
     },
     "execution_count": 16,
     "metadata": {},
     "output_type": "execute_result"
    }
   ],
   "source": [
    "regressor.fit(X_train, y_train, epochs = 100, batch_size = 32)"
   ]
  },
  {
   "cell_type": "markdown",
   "metadata": {
    "id": "4hRau_lIkrE8"
   },
   "source": [
    "## Part 3 - Making the predictions and visualising the results"
   ]
  },
  {
   "cell_type": "markdown",
   "metadata": {
    "id": "SgJO6qEDksxD"
   },
   "source": [
    "### Getting the real stock price of 2017"
   ]
  },
  {
   "cell_type": "code",
   "execution_count": 17,
   "metadata": {
    "id": "FmBT2zqukxTz"
   },
   "outputs": [],
   "source": [
    "dataset_test = pd.read_csv('APPLE_TESTING_DATA.csv')\n",
    "real_stock_price = dataset_test.iloc[:, 1:2].values"
   ]
  },
  {
   "cell_type": "markdown",
   "metadata": {
    "id": "GrvrLblxkz42"
   },
   "source": [
    "### Getting the predicted stock price of 2017"
   ]
  },
  {
   "cell_type": "code",
   "execution_count": 18,
   "metadata": {
    "id": "emikTvUpk3Ck"
   },
   "outputs": [
    {
     "name": "stdout",
     "output_type": "stream",
     "text": [
      "1/1 [==============================] - 2s 2s/step\n"
     ]
    }
   ],
   "source": [
    "dataset_total = pd.concat((dataset_train['Open'], dataset_test['Open']), axis = 0)\n",
    "inputs = dataset_total[len(dataset_total) - len(dataset_test) - 120:].values\n",
    "inputs = inputs.reshape(-1,1)\n",
    "inputs = sc.transform(inputs)\n",
    "X_test = []\n",
    "for i in range(120, 140):\n",
    "    X_test.append(inputs[i-120:i, 0])\n",
    "X_test = np.array(X_test)\n",
    "X_test = np.reshape(X_test, (X_test.shape[0], X_test.shape[1], 1))\n",
    "predicted_stock_price = regressor.predict(X_test)\n",
    "predicted_stock_price = sc.inverse_transform(predicted_stock_price)"
   ]
  },
  {
   "cell_type": "markdown",
   "metadata": {
    "id": "iFTNs3YHk6FQ"
   },
   "source": [
    "### Visualising the results"
   ]
  },
  {
   "cell_type": "markdown",
   "metadata": {},
   "source": [
    "## Prediction"
   ]
  },
  {
   "cell_type": "code",
   "execution_count": 19,
   "metadata": {
    "colab": {
     "base_uri": "https://localhost:8080/",
     "height": 295
    },
    "id": "8OUI8U49k9tH",
    "outputId": "db0ed15e-071b-4bae-955e-0eda3df95238",
    "scrolled": false
   },
   "outputs": [
    {
     "data": {
      "image/png": "[encoded data removed]",
      "text/plain": [
       "<Figure size 432x288 with 1 Axes>"
      ]
     },
     "metadata": {
      "needs_background": "light"
     },
     "output_type": "display_data"
    }
   ],
   "source": [
    "# plt.plot(real_stock_price, color = 'red', label = 'Real Apple Stock Price')\n",
    "plt.plot(predicted_stock_price, color = 'blue', label = 'Predicted Apple Stock Price')\n",
    "plt.title('Apple Stock Price Prediction JULY22')\n",
    "plt.xlabel('Time')\n",
    "plt.grid()\n",
    "plt.ylabel('Apple Stock Price')\n",
    "plt.legend()\n",
    "plt.show()"
   ]
  },
  {
   "cell_type": "markdown",
   "metadata": {},
   "source": [
    "## Training "
   ]
  },
  {
   "cell_type": "code",
   "execution_count": 20,
   "metadata": {},
   "outputs": [
    {
     "data": {
      "image/png": "[encoded data removed]",
      "text/plain": [
       "<Figure size 432x288 with 1 Axes>"
      ]
     },
     "metadata": {
      "needs_background": "light"
     },
     "output_type": "display_data"
    }
   ],
   "source": [
    "plt.plot(real_stock_price, color = 'red', label = 'Real Apple Stock Price')\n",
    "# plt.plot(predicted_stock_price, color = 'blue', label = 'Predicted Apple Stock Price')\n",
    "plt.title('Apple Stock Price Prediction JULY22')\n",
    "plt.xlabel('Time')\n",
    "plt.grid()\n",
    "plt.ylabel('Apple Stock Price')\n",
    "plt.legend()\n",
    "plt.show()"
   ]
  },
  {
   "cell_type": "markdown",
   "metadata": {},
   "source": [
    "## Combined Predicted and Actual Trend"
   ]
  },
  {
   "cell_type": "code",
   "execution_count": 21,
   "metadata": {},
   "outputs": [
    {
     "data": {
      "image/png": "[encoded data removed]",
      "text/plain": [
       "<Figure size 432x288 with 1 Axes>"
      ]
     },
     "metadata": {
      "needs_background": "light"
     },
     "output_type": "display_data"
    }
   ],
   "source": [
    "plt.plot(real_stock_price, color = 'red', label = 'Real Apple Stock Price')\n",
    "plt.plot(predicted_stock_price, color = 'blue', label = 'Predicted Apple Stock Price')\n",
    "plt.title('Apple Stock Price Prediction JULY22')\n",
    "plt.xlabel('Time')\n",
    "plt.grid()\n",
    "plt.ylabel('Apple Stock Price')\n",
    "plt.legend()\n",
    "plt.show()"
   ]
  },
  {
   "cell_type": "markdown",
   "metadata": {},
   "source": [
    "### However for our specific Stock Price Prediction problem, evaluating the model with the RMSE does not make much sense, since we are more interested in the directions taken by our predictions, rather than the closeness of their values to the real stock price. We want to check if our predictions follow the same directions as the real stock price and we don’t really care whether our predictions are close the real stock price. The predictions could indeed be close but often taking the opposite direction from the real stock price."
   ]
  },
  {
   "cell_type": "code",
   "execution_count": 22,
   "metadata": {},
   "outputs": [],
   "source": [
    "import math\n",
    "from sklearn.metrics import mean_squared_error\n",
    "rmse = math.sqrt(mean_squared_error(real_stock_price, predicted_stock_price))"
   ]
  },
  {
   "cell_type": "code",
   "execution_count": 23,
   "metadata": {},
   "outputs": [
    {
     "data": {
      "text/plain": [
       "5.607462426108811"
      ]
     },
     "execution_count": 23,
     "metadata": {},
     "output_type": "execute_result"
    }
   ],
   "source": [
    "rmse"
   ]
  },
  {
   "cell_type": "markdown",
   "metadata": {},
   "source": [
    "## Observations"
   ]
  },
  {
   "cell_type": "markdown",
   "metadata": {},
   "source": [
    "### To be very honest it is exactly impossible to predict the future stock prices otherwise we would all become billonaries but it is possible to predict the patterns that we have predicted. we have predicted the upward and downward trends that exist in the Apple stock price"
   ]
  },
  {
   "cell_type": "markdown",
   "metadata": {},
   "source": [
    "### Our model reacts very okay to the smooth changes for example we are getting an information that the apple stock price will definitely increase in between 2.5th and 7th day and as you can see it is increasing so we can sell our shares at that particular spike which can be very profitable and we getting the same smooth changes at few more location as you can see the prediction"
   ]
  },
  {
   "cell_type": "markdown",
   "metadata": {},
   "source": [
    "### We have big spike like a stock time singularity and our predictions did not follow that but that is completely normal our model just lags behind because it cannot react fast to non-linear changes and according to the Brownian motion mathematical concept in financial engineering the future variations of the stock price are independent from the past "
   ]
  },
  {
   "cell_type": "code",
   "execution_count": 29,
   "metadata": {},
   "outputs": [],
   "source": [
    "import pickle"
   ]
  },
  {
   "cell_type": "code",
   "execution_count": 31,
   "metadata": {},
   "outputs": [
    {
     "name": "stderr",
     "output_type": "stream",
     "text": [
      "WARNING:absl:Found untraced functions such as lstm_cell_layer_call_fn, lstm_cell_layer_call_and_return_conditional_losses, lstm_cell_1_layer_call_fn, lstm_cell_1_layer_call_and_return_conditional_losses, lstm_cell_2_layer_call_fn while saving (showing 5 of 10). These functions will not be directly callable after loading.\n"
     ]
    },
    {
     "name": "stdout",
     "output_type": "stream",
     "text": [
      "INFO:tensorflow:Assets written to: ram://8178f072-460f-4508-93d0-30f3a840f3d7/assets\n"
     ]
    },
    {
     "name": "stderr",
     "output_type": "stream",
     "text": [
      "INFO:tensorflow:Assets written to: ram://8178f072-460f-4508-93d0-30f3a840f3d7/assets\n"
     ]
    }
   ],
   "source": [
    "# save the model to disk\n",
    "filename = 'finalized_model.sav'\n",
    "pickle.dump(regressor, open(filename, 'wb'))\n",
    " \n",
    "# some time later...\n",
    " \n",
    "# load the model from disk\n",
    "# loaded_model = pickle.load(open(filename, 'rb'))\n",
    "# result = loaded_model.score(X_test, Y_test)\n",
    "# print(result)"
   ]
  },
  {
   "cell_type": "code",
   "execution_count": null,
   "metadata": {},
   "outputs": [],
   "source": []
  }
 ],
 "metadata": {
  "colab": {
   "collapsed_sections": [],
   "provenance": []
  },
  "kernelspec": {
   "display_name": "Python 3 (ipykernel)",
   "language": "python",
   "name": "python3"
  },
  "language_info": {
   "codemirror_mode": {
    "name": "ipython",
    "version": 3
   },
   "file_extension": ".py",
   "mimetype": "text/x-python",
   "name": "python",
   "nbconvert_exporter": "python",
   "pygments_lexer": "ipython3",
   "version": "3.10.4"
  }
 },
 "nbformat": 4,
 "nbformat_minor": 1
}
